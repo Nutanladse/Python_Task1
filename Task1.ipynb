{
 "cells": [
  {
   "cell_type": "markdown",
   "id": "20aa54ce-4096-4599-8bcf-c8d5c7270185",
   "metadata": {},
   "source": [
    "# Welcome"
   ]
  },
  {
   "cell_type": "markdown",
   "id": "7b76b5e7-2201-4269-8d35-9a783d20fea3",
   "metadata": {},
   "source": [
    "## I am Nutan\n"
   ]
  },
  {
   "cell_type": "markdown",
   "id": "26f55db5-657f-4974-b6fa-7172428cb7ef",
   "metadata": {},
   "source": [
    "### My First Task in Python"
   ]
  },
  {
   "cell_type": "markdown",
   "id": "75bcc432-7fbe-471f-bddc-3e0088d6d576",
   "metadata": {},
   "source": [
    "DA-9:\n",
    "* Data\n",
    "* Analaytics \n",
    "* 9"
   ]
  },
  {
   "cell_type": "markdown",
   "id": "f3f54ade-c128-4727-bbad-3a750682018a",
   "metadata": {},
   "source": [
    "\n",
    "| Name | ID  |\n",
    "|------|------|\n",
    "|   Nutan  | 36|"
   ]
  },
  {
   "cell_type": "markdown",
   "id": "6473b078-28a5-45c8-9574-ccdf6df2c701",
   "metadata": {},
   "source": [
    "```python\n",
    "print \"Hello World\"\n",
    "```"
   ]
  },
  {
   "cell_type": "markdown",
   "id": "31cd92b3-864e-40e1-9584-0fe52b4cde4b",
   "metadata": {},
   "source": [
    "* This is are the python programming *"
   ]
  },
  {
   "cell_type": "code",
   "execution_count": 84,
   "id": "46796b84-02f4-48d5-a1a2-cb40b09e90e3",
   "metadata": {},
   "outputs": [
    {
     "name": "stdout",
     "output_type": "stream",
     "text": [
      "jupyter\n"
     ]
    }
   ],
   "source": [
    "print('jupyter')"
   ]
  },
  {
   "cell_type": "markdown",
   "id": "1c493b2f-680c-4091-bc9b-6b119f91abfb",
   "metadata": {},
   "source": [
    "** This is are the python programming **"
   ]
  },
  {
   "cell_type": "markdown",
   "id": "f941d6ca-b4ed-434d-938c-218c379802ca",
   "metadata": {},
   "source": [
    "'Welcome to DA-9 Course!'"
   ]
  },
  {
   "cell_type": "markdown",
   "id": "8e5e74f8-651a-4dde-9875-4bac16015843",
   "metadata": {},
   "source": [
    "***\n",
    "Python Programming\n",
    "***"
   ]
  },
  {
   "cell_type": "markdown",
   "id": "da1adeee-a753-4548-8562-45c1748eb182",
   "metadata": {},
   "source": [
    "![alt text](\"C:\\Users\\NUTAN\\Downloads\\Python-Logo.png\")"
   ]
  },
  {
   "cell_type": "markdown",
   "id": "abf8b5c2-1e57-460e-9870-81bd285bf6eb",
   "metadata": {},
   "source": [
    "<img src=\"C:\\Users\\NUTAN\\Downloads\\Python-Logo.png\">\n"
   ]
  },
  {
   "cell_type": "markdown",
   "id": "ea361c6e-2143-42b3-aef1-182459b80d23",
   "metadata": {},
   "source": [
    "~~Notebook~~"
   ]
  },
  {
   "cell_type": "markdown",
   "id": "847df61b-84a5-4fcf-84c7-284d54deaabb",
   "metadata": {},
   "source": [
    "/# jupyter Notebook"
   ]
  },
  {
   "cell_type": "markdown",
   "id": "010fb9bd-5d90-4d31-8488-aa680ec27a1e",
   "metadata": {},
   "source": [
    "> Data Analaytics\n",
    "> > DA-9\n",
    "> > > ARC"
   ]
  },
  {
   "cell_type": "code",
   "execution_count": null,
   "id": "b8426b93-4ea4-4c11-b5ff-0ee958138a39",
   "metadata": {},
   "outputs": [],
   "source": []
  }
 ],
 "metadata": {
  "kernelspec": {
   "display_name": "Python 3 (ipykernel)",
   "language": "python",
   "name": "python3"
  },
  "language_info": {
   "codemirror_mode": {
    "name": "ipython",
    "version": 3
   },
   "file_extension": ".py",
   "mimetype": "text/x-python",
   "name": "python",
   "nbconvert_exporter": "python",
   "pygments_lexer": "ipython3",
   "version": "3.12.4"
  }
 },
 "nbformat": 4,
 "nbformat_minor": 5
}
